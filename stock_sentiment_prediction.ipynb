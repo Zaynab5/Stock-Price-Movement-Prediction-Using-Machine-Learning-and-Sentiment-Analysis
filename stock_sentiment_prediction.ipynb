# %% [markdown]
# # Stock Price Movement Prediction Using Machine Learning and Sentiment Analysis
#
# This notebook integrates historical stock data and sentiment scores derived from news headlines to predict stock price movements.
#
# **Workflow:**
# 1. Data Collection: Fetch historical stock data using `yfinance` and gather news headlines.
# 2. Sentiment Analysis: Compute sentiment scores for news headlines using the VADER sentiment analyzer.
# 3. Feature Engineering: Create technical indicators and combine them with sentiment features.
# 4. Modeling: Build a classification model (XGBoost) to predict if the stock price will go up or down.
# 5. Evaluation & Visualization: Assess model performance and visualize predictions.

# %%
import yfinance as yf
import pandas as pd
import numpy as np
import matplotlib.pyplot as plt
from datetime import datetime, timedelta

# For sentiment analysis
from nltk.sentiment.vader import SentimentIntensityAnalyzer
import nltk
nltk.download('vader_lexicon')

# For machine learning
import xgboost as xgb
from sklearn.model_selection import train_test_split
from sklearn.metrics import accuracy_score, classification_report

# %%
# Step 1: Data Collection - Historical Stock Data
ticker = 'AAPL'
start_date = "2018-01-01"
end_date = "2023-01-01"
stock_data = yf.download(ticker, start=start_date, end=end_date)
stock_data.reset_index(inplace=True)

# %%
# (Optional) Simulated News Headlines Data
# In a real project, you would gather headlines via a news API.
# Here, we'll simulate headlines for each trading day.
def generate_fake_headlines(date):
    # This function randomly generates fake headlines; replace with real headlines from an API.
    import random
    headlines = [
        "Company reports record earnings",
        "Market worries over economic slowdown",
        "Analysts optimistic about growth",
        "Concerns rise over regulatory issues",
        "Innovative product launch boosts confidence"
    ]
    return random.choice(headlines)

stock_data['Headline'] = stock_data['Date'].apply(generate_fake_headlines)

# %%
# Step 2: Sentiment Analysis on Headlines
sid = SentimentIntensityAnalyzer()

def get_sentiment_score(headline):
    sentiment = sid.polarity_scores(headline)
    return sentiment['compound']

stock_data['Sentiment'] = stock_data['Headline'].apply(get_sentiment_score)

# %%
# Step 3: Feature Engineering - Technical Indicators & Labeling
# Calculate Moving Averages and RSI as examples.
stock_data['MA20'] = stock_data['Close'].rolling(window=20).mean()
stock_data['MA50'] = stock_data['Close'].rolling(window=50).mean()

def compute_RSI(series, period=14):
    delta = series.diff()
    gain = (delta.where(delta > 0, 0)).rolling(window=period).mean()
    loss = (-delta.where(delta < 0, 0)).rolling(window=period).mean()
    RS = gain / loss
    return 100 - (100 / (1 + RS))

stock_data['RSI'] = compute_RSI(stock_data['Close'])
stock_data.dropna(inplace=True)

# Create the target variable: 1 if next day’s close is higher than current day’s, else 0.
stock_data['Target'] = (stock_data['Close'].shift(-1) > stock_data['Close']).astype(int)
stock_data.dropna(inplace=True)

# %%
# Prepare the dataset
features = ['Close', 'MA20', 'MA50', 'RSI', 'Sentiment']
X = stock_data[features]
y = stock_data['Target']

X_train, X_test, y_train, y_test = train_test_split(X, y, test_size=0.2, shuffle=False)

# %%
# Step 4: Modeling - XGBoost Classifier
model = xgb.XGBClassifier(objective='binary:logistic', n_estimators=100, max_depth=4, learning_rate=0.1)
model.fit(X_train, y_train)

# %%
# Model Evaluation
predictions = model.predict(X_test)
accuracy = accuracy_score(y_test, predictions)
print("Model Accuracy:", accuracy)
print("\nClassification Report:\n", classification_report(y_test, predictions))

# %%
# Step 5: Visualization - Plotting Actual vs Predicted Movements
stock_data_test = stock_data.iloc[X_train.shape[0]:]
stock_data_test = stock_data_test.assign(Predicted=predictions)

plt.figure(figsize=(14,6))
plt.plot(stock_data_test['Date'], stock_data_test['Close'], label='Actual Close Price', alpha=0.7)
# Mark predicted upward movements
plt.scatter(stock_data_test[stock_data_test['Predicted']==1]['Date'],
            stock_data_test[stock_data_test['Predicted']==1]['Close'],
            label='Predicted Upward Movement', marker='^', color='g')
plt.title(f'{ticker} Stock Price Prediction with Sentiment Analysis')
plt.xlabel('Date')
plt.ylabel('Price')
plt.legend()
plt.show()
