import numpy as np
import matplotlib.pyplot as plt

# Simulated performance metrics for demonstration
metrics = ['Accuracy', 'Precision', 'Recall', 'F1-Score']
# Base model metrics (from stock_sentiment_prediction.ipynb)
base_scores = [0.60, 0.61, 0.59, 0.60]
# Enhanced model metrics (from enhanced_stock_sentiment_prediction.ipynb)
enhanced_scores = [0.63, 0.64, 0.63, 0.63]

x = np.arange(len(metrics))
width = 0.35

fig, ax = plt.subplots(figsize=(8, 6))
rects1 = ax.bar(x - width/2, base_scores, width, label='Base Model', color='skyblue')
rects2 = ax.bar(x + width/2, enhanced_scores, width, label='Enhanced Model', color='salmon')

# Adding text for labels, title and custom x-axis tick labels, etc.
ax.set_ylabel('Score')
ax.set_title('Performance Comparison: Base vs. Enhanced Models')
ax.set_xticks(x)
ax.set_xticklabels(metrics)
ax.legend()

# Attach a text label above each bar, displaying its height
def autolabel(rects):
    for rect in rects:
        height = rect.get_height()
        ax.annotate(f'{height:.2f}',
                    xy=(rect.get_x() + rect.get_width() / 2, height),
                    xytext=(0, 3),  # 3 points vertical offset
                    textcoords="offset points",
                    ha='center', va='bottom')

autolabel(rects1)
autolabel(rects2)

plt.ylim(0, 1)
plt.show()
